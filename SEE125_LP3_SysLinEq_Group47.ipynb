{
  "cells": [
    {
      "cell_type": "markdown",
      "id": "c14b0b7f-c9f2-4966-9c65-0eb3410af2fc",
      "metadata": {
        "id": "c14b0b7f-c9f2-4966-9c65-0eb3410af2fc",
        "tags": []
      },
      "source": [
        "# Solving Systems of Linear Equations"
      ]
    },
    {
      "cell_type": "markdown",
      "id": "86b95c6d-f3c5-456f-a806-c2db7f477559",
      "metadata": {
        "id": "86b95c6d-f3c5-456f-a806-c2db7f477559"
      },
      "source": [
        "## Here fill in:\n",
        "- **Group Nr.**: 47\n",
        "- **Names**: Savinjith Walisadeera, Adam Herbertsson, Tobias Riedel\n",
        "- **Date of hand-in**: 2023-02-17"
      ]
    },
    {
      "cell_type": "markdown",
      "id": "4ff21a9d-3d40-4009-8d49-11ebe0ba927d",
      "metadata": {
        "id": "4ff21a9d-3d40-4009-8d49-11ebe0ba927d"
      },
      "source": [
        "## Exercise 1: Matrix manipulations.\n",
        "\n",
        "1. Define these three matrices\n",
        "$\n",
        "A = \\begin{pmatrix}\n",
        "1 & 2 & 3\\\\\n",
        "4 & 5 & 6\\\\\n",
        "7 & 8 & 9\n",
        "\\end{pmatrix}\n",
        "$\n",
        ", \n",
        "$\n",
        "B = \\begin{pmatrix}\n",
        "11 & 12 & 13\\\\\n",
        "14 & 15 & 16\\\\\n",
        "17 & 18 & 19\n",
        "\\end{pmatrix}\n",
        "$\n",
        "and \n",
        "$\n",
        "C = \\begin{pmatrix}\n",
        "1 & 2\\\\\n",
        "3 & 4\\\\\n",
        "5 & 6\n",
        "\\end{pmatrix}\n",
        "$\n",
        "\n",
        "2. Use them to perform one matrix addition, one element-wise matrix multiplication and three matrix multiplications. Use the two different matrices in each operation, e.g. $A+B$ not $A+A$.\n",
        "3. What are the requirements on the matrices dimensions for these three types of operations?\n",
        "4. What numpy tool returns the dimension of a matrix? Use it on matrix $A$.\n",
        "5. Concatenate the columns of matrices $A$ and $C$ and print the result, the resulting matrix's dimension should be $3\\times5$"
      ]
    },
    {
      "cell_type": "code",
      "execution_count": 1,
      "id": "3cf9905c-02b0-404e-a212-2634c9fb7f80",
      "metadata": {
        "id": "3cf9905c-02b0-404e-a212-2634c9fb7f80"
      },
      "outputs": [],
      "source": [
        "import numpy as np\n",
        "import matplotlib.pyplot as plt"
      ]
    },
    {
      "cell_type": "code",
      "execution_count": 2,
      "id": "73a36e01-1d8b-4daf-8dd8-81e96f7863e7",
      "metadata": {
        "id": "73a36e01-1d8b-4daf-8dd8-81e96f7863e7"
      },
      "outputs": [
        {
          "name": "stdout",
          "output_type": "stream",
          "text": [
            "[[1 2 3]\n",
            " [4 5 6]\n",
            " [7 8 9]] [[11 12 13]\n",
            " [14 15 16]\n",
            " [17 18 19]] [[1 2]\n",
            " [3 4]\n",
            " [5 6]]\n"
          ]
        }
      ],
      "source": [
        "# 1 - you can use np.array alone or the combination np.array and np.reshape\n",
        "#--- Your solution ---#\n",
        "A = np.array([1, 2, 3, 4, 5, 6, 7, 8, 9]).reshape(3,3)\n",
        "\n",
        "B = np.array([11, 12, 13, 14, 15, 16, 17, 18, 19]).reshape(3,3)\n",
        "\n",
        "C = np.array([1, 2, 3, 4, 5, 6]).reshape(3,2)\n",
        "\n",
        "print (A,B,C)"
      ]
    },
    {
      "cell_type": "code",
      "execution_count": 3,
      "id": "af80ba3d",
      "metadata": {},
      "outputs": [
        {
          "name": "stdout",
          "output_type": "stream",
          "text": [
            "[[12 14 16]\n",
            " [18 20 22]\n",
            " [24 26 28]]\n",
            "[[ 90  96 102]\n",
            " [216 231 246]\n",
            " [342 366 390]]\n",
            "[[ 90  96 102]\n",
            " [216 231 246]\n",
            " [342 366 390]]\n",
            "[[ 22  28]\n",
            " [ 49  64]\n",
            " [ 76 100]]\n",
            "[[ 22  28]\n",
            " [ 49  64]\n",
            " [ 76 100]]\n"
          ]
        }
      ],
      "source": [
        "\n",
        "# 2 - Matrix operations \n",
        "# calculate A + B,\n",
        "AB = A + B\n",
        "print(AB)\n",
        "# calculate A * B,\n",
        "AtimesB = np.dot(A,B)\n",
        "print(AtimesB)\n",
        "# perform matrix multiplication of A and B,\n",
        "# perform matrix multiplication of A and C,\n",
        "# perform matrix multiplication of B and C\n",
        "#--- Your solution ---#\n",
        "print(np.dot(A,B))\n",
        "print(np.dot(A,C))\n",
        "print(np.dot(A,C))"
      ]
    },
    {
      "attachments": {},
      "cell_type": "markdown",
      "id": "576a70ce",
      "metadata": {},
      "source": [
        "# 3 - What are the requirements on the matrices dimensions for these three types of operations?\n",
        "# The requirement in addition is that the matrices have the same dimensions\n",
        "# The requirement in multiplication is that the first matrix has the same amount of elements in its row as the second in its column."
      ]
    },
    {
      "cell_type": "code",
      "execution_count": 4,
      "id": "074901a0",
      "metadata": {},
      "outputs": [
        {
          "name": "stdout",
          "output_type": "stream",
          "text": [
            "(3, 3)\n"
          ]
        }
      ],
      "source": [
        "# 4\n",
        "#--- Your solution ---#\n",
        "DimensaionsA = np.shape(A)\n",
        "print(DimensaionsA)"
      ]
    },
    {
      "cell_type": "code",
      "execution_count": 5,
      "id": "9317859b",
      "metadata": {},
      "outputs": [
        {
          "data": {
            "text/plain": [
              "array([[ 1,  2,  3, 11, 12, 13,  1,  2],\n",
              "       [ 4,  5,  6, 14, 15, 16,  3,  4],\n",
              "       [ 7,  8,  9, 17, 18, 19,  5,  6]])"
            ]
          },
          "execution_count": 5,
          "metadata": {},
          "output_type": "execute_result"
        }
      ],
      "source": [
        "# 5 Use np.concatenate and the correct values for the \"axis\" parameter. Try help(np.concatenate) for more information\n",
        "#--- Your solution ---#\n",
        "np.concatenate((A ,B, C), axis=1, dtype = None)"
      ]
    },
    {
      "cell_type": "markdown",
      "id": "65189d49-6078-4972-a132-738a6b3a890b",
      "metadata": {
        "id": "65189d49-6078-4972-a132-738a6b3a890b",
        "tags": []
      },
      "source": [
        "## Exercise 2: Lower and upper triangular matrices\n",
        "\n",
        "Let's create a $5\\times5$ matrix called $A$ which values range from 51 to 75. See how the `numpy.arange` and `numpy.reshape` functions are used."
      ]
    },
    {
      "cell_type": "code",
      "execution_count": 6,
      "id": "70093e55-30d9-4150-9aab-8d56a06a77cb",
      "metadata": {
        "id": "70093e55-30d9-4150-9aab-8d56a06a77cb"
      },
      "outputs": [],
      "source": [
        "n = 5\n",
        "val = 51\n",
        "A = np.arange(val,val+n*n).reshape(n,n) # OR np.arange(51, 76).reshape(5,5) OR np.arange(51, 51+n*n).reshape(n,n)"
      ]
    },
    {
      "cell_type": "markdown",
      "id": "9aa67aed-4ad6-48e8-8cc1-a0b0440c46e4",
      "metadata": {
        "id": "9aa67aed-4ad6-48e8-8cc1-a0b0440c46e4"
      },
      "source": [
        "1. Extract the lower ($L$) and upper ($U$) triangular parts of $A$ (without using `numpy.tril` or `numpy.triu`). Here we say that lower-triangular means that all elements strictly above the diagonal are 0 (and the opposite for upper triangular). Note: this is _not_ a LU-decomposition, which will be seen later in Exercise 4.\n",
        "\n",
        "2. Create a function to compute the Euclidian norm of $U$ (the square root of the sum of the square of each element). For a square matrix of dimension $n$, we have\n",
        "$\\|U\\| = \\sqrt{\\sum_{1\\le i, j \\le n} A_{ij}^2}$\n",
        "\n",
        "Then check if your result is the same as when using `numpy.linalg.norm`"
      ]
    },
    {
      "cell_type": "code",
      "execution_count": 7,
      "id": "9f347661-bb15-4a68-9c89-9524a8a5f46f",
      "metadata": {
        "colab": {
          "base_uri": "https://localhost:8080/"
        },
        "id": "9f347661-bb15-4a68-9c89-9524a8a5f46f",
        "outputId": "c8f07dc5-5828-4070-8765-f09390a5460a",
        "tags": []
      },
      "outputs": [
        {
          "name": "stdout",
          "output_type": "stream",
          "text": [
            "[[51  0  0  0  0]\n",
            " [56 57  0  0  0]\n",
            " [61 62 63  0  0]\n",
            " [66 67 68 69  0]\n",
            " [71 72 73 74 75]]\n",
            "[[51 52 53 54 55]\n",
            " [ 0 57 58 59 60]\n",
            " [ 0  0 63 64 65]\n",
            " [ 0  0  0 69 70]\n",
            " [ 0  0  0  0 75]]\n",
            "235.2126697267815\n",
            "235.2126697267815\n"
          ]
        }
      ],
      "source": [
        "#1\n",
        "# Initialise L and U as A\n",
        "L = np.copy(A)\n",
        "U = np.copy(A)\n",
        "# now loop on the matrix elements and set to 0 the appropriate ones to get L and U.\n",
        "#--- Your solution ---#\n",
        "for j in range(n):\n",
        "  for i in range(n):\n",
        "    if i > j:\n",
        "      L[j,i] = 0\n",
        "\n",
        "for j in range(n):\n",
        "  for i in range(n):\n",
        "    if i < j:\n",
        "      U[j,i] = 0\n",
        "\n",
        "print(L)\n",
        "print(U)\n",
        "\n",
        "# 2\n",
        "#--- Your solution ---#\n",
        "def euclidian_norm(m):\n",
        "  return np.sum(m**2)**(1/2)\n",
        "\n",
        "print(euclidian_norm(U))\n",
        "print(np.linalg.norm(U))\n",
        "\n",
        "assert np.linalg.norm(U) == euclidian_norm(U)\n"
      ]
    },
    {
      "cell_type": "markdown",
      "id": "b9616389-bbd0-41cd-b41c-832f45de6aa8",
      "metadata": {
        "id": "b9616389-bbd0-41cd-b41c-832f45de6aa8"
      },
      "source": [
        "---\n",
        "## Note for exercises 3 and 4:\n",
        "**Do one of the two next exercises (you can do both, of course). They both relate to the _condition number_ but ex. 3 is a bit easier (regarding the code, not the maths) than ex. 4.**\n",
        "\n",
        "---\n",
        "\n",
        "## Exercise 3: Condition number\n",
        "1. Use `numpy.linalg.solve` to solve the system $Ax = b$ where \n",
        "$\n",
        "A = \\begin{pmatrix}\n",
        "0.8647 & 0.5766\\\\\n",
        "0.4322 & 0.2822\n",
        "\\end{pmatrix}\n",
        "$ and \n",
        "$\n",
        "b = \\begin{pmatrix}\n",
        "0.2885 \\\\\n",
        "0.1442\n",
        "\\end{pmatrix}$\n",
        "2. Compute and print the _condition number_ of $A$, which is defined as: $\\|A\\|  \\|A^{-1}\\|$. You can re-use your norm function from Exercise 2, or work with `np.linalg.norm`. Use `numpy.linalg.inv` for inverting the matrix.\n",
        "3. Now add a small perturbation $p=0.0001$ to the element in the first row and first column of $A$ and solve again $Ax = b$. What do you observe on $x$, compared to the former one in question 1? (print their difference)\n",
        "4. Repeat steps 1 to 3 but now using\n",
        "$\n",
        "A = \\begin{pmatrix}\n",
        "8.5 & 1.5\\\\\n",
        "1.8 & 3.1\n",
        "\\end{pmatrix}\n",
        "$ \n",
        "5. How would you interpret the condition number?"
      ]
    },
    {
      "cell_type": "code",
      "execution_count": 8,
      "id": "709fbdfd-2781-4588-9790-b9c7050acaf6",
      "metadata": {
        "id": "709fbdfd-2781-4588-9790-b9c7050acaf6",
        "tags": []
      },
      "outputs": [
        {
          "name": "stdout",
          "output_type": "stream",
          "text": [
            "[ 3.33646867e-01 -7.70983274e-06]\n"
          ]
        }
      ],
      "source": [
        "# 1\n",
        "A = np.array([0.8647, 0.5766, 0.4322, 0.2822]).reshape(2,2)\n",
        "b = np.array([0.2885, 0.1442])\n",
        "#--- Your solution ---#\n",
        "x1 = np.linalg.solve(A, b)\n",
        "print(x1)"
      ]
    },
    {
      "cell_type": "code",
      "execution_count": 9,
      "id": "5777a18e",
      "metadata": {},
      "outputs": [
        {
          "name": "stdout",
          "output_type": "stream",
          "text": [
            "259.5529318566442\n"
          ]
        }
      ],
      "source": [
        "# 2\n",
        "#--- Your solution ---#\n",
        "ConditionA = np.linalg.norm(A) * np.linalg.norm(np.linalg.inv(A))\n",
        "print(ConditionA)"
      ]
    },
    {
      "cell_type": "code",
      "execution_count": 10,
      "id": "7f06e46a",
      "metadata": {},
      "outputs": [
        {
          "name": "stdout",
          "output_type": "stream",
          "text": [
            "The difference is: [ 0.00182473 -0.00279464]\n"
          ]
        }
      ],
      "source": [
        "# 3 - Instead of rewriting the matrix A, create a matrix dA that contains the perturbation at position (0,0) and zeros elsewhere. Then just add dA to A. \n",
        "#--- Your solution ---#\n",
        "dA = np.array([0.0001, 0, 0, 0]).reshape(2,2)\n",
        "a = A + dA\n",
        "x2 = np.linalg.solve(a, b)\n",
        "print('The difference is:', x2-x1)\n",
        "##"
      ]
    },
    {
      "cell_type": "code",
      "execution_count": 11,
      "id": "43b7310b",
      "metadata": {},
      "outputs": [
        {
          "name": "stdout",
          "output_type": "stream",
          "text": [
            "[0.02867019 0.02986892]\n",
            "3.6934460887949254\n",
            "[0.02866981 0.02986914]\n",
            "The difference is: [-0.30497705  0.02987685]\n"
          ]
        }
      ],
      "source": [
        "# 4\n",
        "A2 = np.array([8.5, 1.5, 1.8, 3.1]).reshape(2,2)\n",
        "#--- Your solution ---#\n",
        "x3 = np.linalg.solve(A2, b)\n",
        "print(x3)\n",
        "ConditionA2 = np.linalg.norm(A2) * np.linalg.norm(np.linalg.inv(A2))\n",
        "print(ConditionA2)\n",
        "a2 = A2 + dA\n",
        "x2 = np.linalg.solve(a2, b)\n",
        "print(x2)\n",
        "print('The difference is:', x2-x1)"
      ]
    },
    {
      "cell_type": "code",
      "execution_count": null,
      "id": "b21775e5",
      "metadata": {},
      "outputs": [],
      "source": [
        "# 5\n",
        "# Small value of a conditional number implies that a small error will have a small affect the answer. #\n",
        "# A large conditional number leads to that a small error will have a large implication on the answer. #"
      ]
    },
    {
      "cell_type": "markdown",
      "id": "d162531e-f3f4-474d-93b1-824464f54dc6",
      "metadata": {
        "id": "d162531e-f3f4-474d-93b1-824464f54dc6"
      },
      "source": [
        "## Exercise 4: Condition number $\\star$\n",
        "\n",
        "Sometimes, you may encounter *ill-conditioned* problems. It means that a small perturbation of just one of the coefficients of your system of linear equations will generate enormous differences in its set of solutions. There are methods to infer whether or not you will meet such an issue even before trying to solve the system. In textbooks, you may read these two methods:\n",
        "- check if the determinant of A is smaller than the norm of A: $|\\det(A)| \\ll \\|A\\| $\n",
        "- check if the condition number of A (equals to $\\|A\\|  \\|A^{-1}\\|$) is large (greater than $100$)\n",
        "\n",
        "In this exercise you will implement them and compare their results.\n",
        "\n",
        "### 4.1\n",
        "Use the functions `np.triu`, `np.ones` and `np.identity` to create the following square matrix of size $n$. Use $n=16$ but your code should be able deal with any value.\n",
        "\n",
        "$$\n",
        "A = \\left(\n",
        "\\begin{array}{ccccc}\n",
        "1 & -1 & -1 & \\cdots & -1\\\\\n",
        "0 &  1 & -1 & \\cdots & -1\\\\\n",
        "0 &  0 &  1 & \\cdots & -1\\\\\n",
        "\\vdots & \\vdots & \\vdots & \\ddots & \\vdots \\\\\n",
        "0 &  0 & 0 & \\cdots & 1\\\\\n",
        "\\end{array}\n",
        "\\right)\n",
        "$$\n",
        "\n",
        "### 4.2 \n",
        "Solve the system $Ax=b$ with $b^T = (1\\quad-1\\quad1\\quad\\cdots\\quad-1\\quad1\\quad-1)$ (so an alternance of $1$ and $-1$ the last value of $b$ depends on the $n$).\n",
        "\n",
        "### 4.3\n",
        "Add a small perturbation $-0.01$ on the lower-left element in $A$ and solve again the system $Ax=b$.\n",
        "Compare these results to those in the question 4.2. What do you observe?\n",
        "\n",
        "### 4.4 \n",
        "Test the two methods introduced in the beginning of the exercise. Look for Numpy functions to compute the determinant, the norm and the inverse of matrices. Can you favor one rather than the other? Why? You can see more examples of condition numbers in exercise 3."
      ]
    },
    {
      "cell_type": "code",
      "execution_count": 12,
      "id": "d36925ae-2b4e-4440-8596-36b4bf6e372e",
      "metadata": {
        "id": "d36925ae-2b4e-4440-8596-36b4bf6e372e"
      },
      "outputs": [],
      "source": [
        "# 1\n",
        "n = 16\n",
        "#--- Your solution ---#\n",
        "\n",
        "# 2 \n",
        "#--- Your solution ---#\n",
        "\n",
        "# 3 \n",
        "#--- Your solution ---#\n",
        "\n",
        "# 4\n",
        "#--- Your solution ---#"
      ]
    },
    {
      "cell_type": "markdown",
      "id": "03d4dc13-78de-404e-aaac-72863156ad1c",
      "metadata": {
        "id": "03d4dc13-78de-404e-aaac-72863156ad1c",
        "tags": []
      },
      "source": [
        "## Exercise 5: Matrix inversion\n",
        "\n",
        "This exercise refers to the book section 3.3.3, equation 4.147 page 164 but all details will be given here. The task is to code a function that performs a matrix inversion and returns the inverted matrix. The function will be tested on the matrix $A$. The inverted matrix is written $A^{-1}$ and satisfies $AA^{-1} = I$, where $I$ is the identity matrix. We define $A$ as:\n",
        "\n",
        "$\n",
        "A = \\begin{pmatrix}\n",
        "2 & 1 & 1\\\\\n",
        "1 & 1 & -2\\\\\n",
        "1 & 2 & 1\n",
        "\\end{pmatrix}\n",
        "$. \n",
        "\n",
        "The procedure is based on the LU decomposition. To LU-decompose $A$ means to find $L$ and $U$ such as $A = LU$. For that, we will use the function `ludec` given below, which uses the functions `forwsub` and `backsub`, also given. Please read and try to understand what these functions are doing. "
      ]
    },
    {
      "cell_type": "code",
      "execution_count": 13,
      "id": "11b8affb-61d7-4fb8-aa1c-77633e7b6831",
      "metadata": {
        "id": "11b8affb-61d7-4fb8-aa1c-77633e7b6831"
      },
      "outputs": [],
      "source": [
        "def forwsub(L, b):\n",
        "    ''' Forward substitution: solves Lx = b where x is the unknown, b is known and L is known ans is a lower triangular matrix'''  \n",
        "    n = L.shape[0]\n",
        "    x = np.zeros(n)\n",
        "    for i in range(n):\n",
        "        x[i] = (b[i] - L[i,:i]@x[:i])/L[i, i]\n",
        "    return x\n",
        "\n",
        "def backsub(U, b):\n",
        "    ''' Backward substitution: solves Ux = b where x is the unknown, b is known and U is known ans is an upper triangular matrix'''  \n",
        "    n = U.shape[0]\n",
        "    x = np.zeros(n)\n",
        "    for i in reversed(range(n)):\n",
        "        x[i] = (b[i] - U[i,i+1:]@x[i+1:])/U[i, i]\n",
        "    return x\n",
        "           \n",
        "def ludec(A):\n",
        "    ''' LU decomposition: from the input matrix A, returns L and U such that A = LU, with L and U being lower and upper triangular matrices, respectively'''\n",
        "    n = A.shape[0]\n",
        "    U = np.copy(A)\n",
        "    L = np.identity(n)\n",
        "    for j in range(n-1):\n",
        "        for i in range(j+1, n):\n",
        "            coef = U[i, j]/U[j, j]\n",
        "            U[i,j:] = U[i,j:] - U[j,j:] * coef\n",
        "            L[i,j] = coef\n",
        "    return L, U"
      ]
    },
    {
      "cell_type": "code",
      "execution_count": 14,
      "id": "b96f141d",
      "metadata": {},
      "outputs": [
        {
          "name": "stdout",
          "output_type": "stream",
          "text": [
            "(array([[1. , 0. , 0. ],\n",
            "       [0.5, 1. , 0. ],\n",
            "       [0.5, 3. , 1. ]]), array([[ 2. ,  1. ,  1. ],\n",
            "       [ 0. ,  0.5, -2.5],\n",
            "       [ 0. ,  0. ,  8. ]]))\n"
          ]
        }
      ],
      "source": [
        "A = np.array([2.0, 1., 1., 1, 1, -2, 1, 2, 1]).reshape(3,3)\n",
        "print(ludec(A))"
      ]
    },
    {
      "cell_type": "markdown",
      "id": "973354a0-3ad4-4f8e-b2bb-25e0139ee7a1",
      "metadata": {
        "id": "973354a0-3ad4-4f8e-b2bb-25e0139ee7a1"
      },
      "source": [
        "### 5.1\n",
        "First, LU-decompose $A$. \n",
        "\n",
        "### 5.2\n",
        "Recall that $AA^{-1} = I$ and let's say that $x_i$ and $e_i$ are the column-vectors of $A^{-1}$ and $I$, respectively. Let's assume that the dimension of $A$ is $n$. As a result, we have: \n",
        "\n",
        "$A^{-1} = \\begin{pmatrix} x_0 & x_1 & ... & x_i & ... & x_{n-1}\\end{pmatrix}$ and  $I = \\begin{pmatrix} e_0 & e_1 & ... & e_i & ... & e_{n-1}\\end{pmatrix}$ \n",
        "\n",
        "Thus, inverting $A$ means to solve equation $Ax_i = e_i$ (eq. 4.147 in the book), i.e. find $x_i$. \n",
        "Note that since $A = LU$, then you can rewrite $Ax_i = e_i$ as $L(Ux_i) = e_i$. \n",
        "\n",
        "Therefore, in your inversion function you should first solve $Ly_i = e_i$. Once $y_i$ is known, then proceed with $Ux_i = y_i$\n",
        "\n",
        "Solve the first of these equations $Ly_i = e_i$ by forward substitution using `forwsub` (since we’re dealing with a lower-triangular problem). The result can then be used to solve the second equation $Ux_i = y_i$ by back substitution using `backsub` (since it involves an upper-triangular matrix).\n",
        "\n",
        "### 5.3 \n",
        "Compare your inverted matrix with the inverted matrix returned by the numpy function `numpy.linalg.inv`\n",
        "\n",
        "### 5.4 \n",
        "Propose and implement another way to show that your inversion works (think about the equation satisfied by an inverse matrix)."
      ]
    },
    {
      "cell_type": "code",
      "execution_count": 22,
      "id": "bd3e6d41-6ab9-49f9-9a33-7e26b2deb614",
      "metadata": {
        "id": "bd3e6d41-6ab9-49f9-9a33-7e26b2deb614"
      },
      "outputs": [
        {
          "name": "stdout",
          "output_type": "stream",
          "text": [
            "[[ 0.625  0.125 -0.375]\n",
            " [-0.375  0.125  0.625]\n",
            " [ 0.125 -0.375  0.125]]\n"
          ]
        }
      ],
      "source": [
        "A = np.array([2.0, 1., 1., 1, 1, -2, 1, 2, 1]).reshape(3,3)\n",
        "\n",
        "def myinversion(A):\n",
        "    # 5.1\n",
        "    #--- Your solution ---#\n",
        "    L, U = ludec(A)\n",
        "    # 5.2\n",
        "    # some initialisation\n",
        "    n = A.shape[0]\n",
        "    I = np.identity(n)\n",
        "    Ainv = np.zeros((n, n)) # the inverted matrix\n",
        "    # now use forwsub then backsub and return Ainv. Do that inside a loop on the columns indices of the identity and inverted matrices.\n",
        "    #--- Your solution ---#\n",
        "    for i in range(n):\n",
        "        yi = forwsub(L, I[:,i])\n",
        "        xi = backsub(U, yi)\n",
        "        Ainv[:,i] = xi\n",
        "    return Ainv\n",
        "    \n",
        "    \n",
        "# Just to look at the inverted matrix\n",
        "print(myinversion(A))\n"
      ]
    },
    {
      "cell_type": "code",
      "execution_count": 23,
      "id": "6c3d9735",
      "metadata": {},
      "outputs": [
        {
          "name": "stdout",
          "output_type": "stream",
          "text": [
            "[[ 0.625  0.125 -0.375]\n",
            " [-0.375  0.125  0.625]\n",
            " [ 0.125 -0.375  0.125]]\n"
          ]
        }
      ],
      "source": [
        "# 5.3\n",
        "#--- Your solution\n",
        "print(np.linalg.inv(A))"
      ]
    },
    {
      "cell_type": "code",
      "execution_count": 24,
      "id": "1d3a9af2",
      "metadata": {},
      "outputs": [
        {
          "name": "stdout",
          "output_type": "stream",
          "text": [
            "[[1. 0. 0.]\n",
            " [0. 1. 0.]\n",
            " [0. 0. 1.]]\n"
          ]
        }
      ],
      "source": [
        "# 5.4\n",
        "#--- Your solution ---#\n",
        "print(A@myinversion(A))"
      ]
    },
    {
      "cell_type": "markdown",
      "id": "3211016d-9685-4471-9bdc-1b1c1acd84af",
      "metadata": {
        "id": "3211016d-9685-4471-9bdc-1b1c1acd84af"
      },
      "source": [
        "## Exercise 6: Laser tracking equipment\n",
        "\n",
        "A room is equiped with two lasers that aim at tracking the position of a person walking in it. \n",
        "Each laser follows the person and returns the equation of its ray. \n",
        "We are interested in the position of the person, that is, the position where the two lasers intersect.\n",
        "\n",
        "At first, the two lasers are rather close to each other (10 cm apart). Later the second laser will be moved further away.\n",
        "\n",
        "### 6.1\n",
        "Plot the rays of the two lasers, given by the equations $y1(x)$ and $y2a(x)$ below. "
      ]
    },
    {
      "cell_type": "code",
      "execution_count": 25,
      "id": "a600ec16-2e2b-4088-892f-f8deacd3246d",
      "metadata": {
        "colab": {
          "base_uri": "https://localhost:8080/",
          "height": 350
        },
        "id": "a600ec16-2e2b-4088-892f-f8deacd3246d",
        "outputId": "66660ecb-4fb3-4b93-9148-f291fba3a373"
      },
      "outputs": [
        {
          "data": {
            "image/png": "[encoded data removed]",
            "text/plain": [
              "<Figure size 500x500 with 1 Axes>"
            ]
          },
          "metadata": {},
          "output_type": "display_data"
        }
      ],
      "source": [
        "# Define the x axis\n",
        "step = 0.1\n",
        "x = np.arange(0,10+step,step)\n",
        "\n",
        "# Lasers sources positions:\n",
        "s1x, s1y = 2, 0 # laser_1\n",
        "s2xa, s2ya = 1.9, 0 # laser_2 position a\n",
        "\n",
        "# Equation for each laser\n",
        "a1, b1 = 1, -2  # laser_1\n",
        "a2a, b2a = 4/4.1, 4-24/4.1  # laser_2\n",
        "y1 = a1*x +b1\n",
        "y2a = a2a*x + b2a\n",
        "\n",
        "# Figure of the room with each laser position and their rays\n",
        "# The room is seen from above. The position (0,0) is the lower left corner of the room\n",
        "fig, ax = plt.subplots(nrows=1, ncols=1, figsize=(5, 5))\n",
        "ax.plot(s1x, s1y, 'r*', label='Laser source 1', markersize=10)\n",
        "ax.plot(s2xa, s2ya, 'g*', label='Laser source 2a', markersize=10)\n",
        "# 6.1\n",
        "# Plot the rays from each laser source\n",
        "#--- Your solution ---#\n",
        "ax.plot(x, y1)\n",
        "ax.plot(x, y2a)\n",
        "\n",
        "ax.plot(6, 4,'+', markersize=10, label = 'person')\n",
        "ax.set_xlabel('x (m)')\n",
        "ax.set_ylabel('y (m)')\n",
        "ax.set_xlim([0, 10])\n",
        "ax.set_ylim([0, 10])\n",
        "ax.set_title('Sensors configuration a')\n",
        "ax.legend()\n",
        "plt.show()"
      ]
    },
    {
      "cell_type": "markdown",
      "id": "e1a3b47e-d860-4d26-9a19-add35301aaa7",
      "metadata": {
        "id": "e1a3b47e-d860-4d26-9a19-add35301aaa7"
      },
      "source": [
        "### 6.2\n",
        "As explained, the two lasers follow the person in the room. That person is at the intersection of the two rays. \n",
        "\n",
        "- Figure out the system of linear equations that needs to be solved to compute the coordinates of the intersection. Use it to declare $A$ and $k$ such that $Au=k$, where $A$ is a coefficient matrix, $k$ is a column vector and $u$ is the coordinate of the intersection (also a column vector). Only $u$ is unkown.\n",
        "- Then use `np.linalg.solve` to get the person's coordinates. Print that output. You should find that the person is located at $x, y =6, 4$ m."
      ]
    },
    {
      "cell_type": "code",
      "execution_count": 26,
      "id": "79f23346-ba45-48d0-81de-4fb0edf92443",
      "metadata": {
        "colab": {
          "base_uri": "https://localhost:8080/"
        },
        "id": "79f23346-ba45-48d0-81de-4fb0edf92443",
        "outputId": "a531f71d-f1c7-42c7-ef6b-af70745a37cc"
      },
      "outputs": [
        {
          "name": "stdout",
          "output_type": "stream",
          "text": [
            "[[6.]\n",
            " [4.]]\n"
          ]
        }
      ],
      "source": [
        "# 6.2\n",
        "#--- Your solution ---#\n",
        "A = np.array([a1, -1, a2a, -1]).reshape(2, 2)\n",
        "k = np.array([-b1, -b2a]).reshape(2, 1)\n",
        "u = np.linalg.solve(A, k)\n",
        "\n",
        "print(u)"
      ]
    },
    {
      "cell_type": "markdown",
      "id": "108e6c69-45c7-4e41-b1b6-21f52999e418",
      "metadata": {
        "id": "108e6c69-45c7-4e41-b1b6-21f52999e418"
      },
      "source": [
        "### 6.3\n",
        "Now like any real sensor, some measurement uncertainties will leak into the laser equation.\n",
        "- Let's apply a small perturbation p = 0.001 on the two slope coefficents: $a1 + p$ and $a2a - p$ and solve the system again. \n",
        "- Compute the distance between the position in 6.2 and the one found here.\n",
        "- Could you have expected this sensitivity to uncertainties (hint: Exercise 3). Explain intuitively why this occurs."
      ]
    },
    {
      "cell_type": "code",
      "execution_count": 27,
      "id": "cd2769e7-bc41-41ff-8b5f-027ce804492e",
      "metadata": {
        "colab": {
          "base_uri": "https://localhost:8080/"
        },
        "id": "cd2769e7-bc41-41ff-8b5f-027ce804492e",
        "outputId": "53a2491c-9e53-41e1-ac31-a694965fbf0e"
      },
      "outputs": [
        {
          "name": "stdout",
          "output_type": "stream",
          "text": [
            "ERROR (m): 0.6391529076831706\n"
          ]
        }
      ],
      "source": [
        "# 6.3\n",
        "# You only need to make a few changes on the matrix A. Then use again np.linalg.solve\n",
        "# \n",
        "p = 0.001 # the perturbation to apply on a1 and a2a\n",
        "#--- Your solution ---#\n",
        "A = np.array([a1+p, -1, a2a-p, -1]).reshape(2, 2)\n",
        "k = np.array([-b1, -b2a]).reshape(2, 1)\n",
        "u2 = np.linalg.solve(A, k)\n",
        "print('ERROR (m):', np.linalg.norm(u-u2))"
      ]
    },
    {
      "cell_type": "markdown",
      "id": "mZg6poA1NDK9",
      "metadata": {
        "id": "mZg6poA1NDK9"
      },
      "source": [
        "This sensitivity is likely because the two lasers are very close togheter so a small differentiation in the slope of the beam will make them cross in a much different place."
      ]
    },
    {
      "cell_type": "markdown",
      "id": "91457989-c770-4f1b-bd18-10e647ac1eb6",
      "metadata": {
        "id": "91457989-c770-4f1b-bd18-10e647ac1eb6"
      },
      "source": [
        "### 6.4 \n",
        "Above you see what it practically means to have an ill-conditioned problem. A bad setting in a physical system leads to numerical issues. One solution to this is given below, but before reading it, take your time to see what you would do (no need to write it down here, just think).\n",
        "\n",
        "- - -\n",
        "\n",
        "So one solution is to move one of the lasers. We will move the second laser source further away along the same wall. It's new position is now: $x, y = 8, 0$. The laser source 1 stays at the same place as before.\n",
        "\n",
        "- Make a figure of the new configuration and lasers rays.\n",
        "- Compute and print the person's position\n",
        "- Apply the same perturbation p = 0.001 on the two slope coefficents: $a1 + p$ and $a2b - p$ and solve the system again. Do you have a more robust system, why?\n",
        "- On the same figure, add a black dot where the person is located and complete the legend (you can use the _perturbed_ position computed in the previous item)"
      ]
    },
    {
      "cell_type": "code",
      "execution_count": 28,
      "id": "c1f5ee1b-6a2f-4247-aa1a-e87fb4f40123",
      "metadata": {
        "colab": {
          "base_uri": "https://localhost:8080/",
          "height": 402
        },
        "id": "c1f5ee1b-6a2f-4247-aa1a-e87fb4f40123",
        "outputId": "b2668de3-11f7-45b6-f28a-58e2c8a782bc"
      },
      "outputs": [
        {
          "name": "stdout",
          "output_type": "stream",
          "text": [
            "[[6.]\n",
            " [4.]]\n",
            "ERROR (m): 0.004469156517320929\n"
          ]
        },
        {
          "data": {
            "image/png": "[encoded data removed]",
            "text/plain": [
              "<Figure size 500x500 with 1 Axes>"
            ]
          },
          "metadata": {},
          "output_type": "display_data"
        }
      ],
      "source": [
        "# Let's move laser#2\n",
        "s2xb, s2yb = 8, 0 # laser 2, position b\n",
        "a2b, b2b = -2, 16 \n",
        "\n",
        "# Equation from laser 2, position b\n",
        "y2b = a2b*x + b2b\n",
        "\n",
        "# Figure of the new settings\n",
        "fig, ax = plt.subplots(nrows=1, ncols=1, figsize=(5, 5))\n",
        "ax.plot(s1x, s1y, 'r*', label='Laser source 1', markersize=10)\n",
        "ax.plot(s2xb, s2yb, 'g*', label='Laser source 2b', markersize=10)\n",
        "# 6.4 \n",
        "# o Plot the new laser configuration\n",
        "#--- Your solution ---#\n",
        "ax.plot(x, y1)\n",
        "ax.plot(x, y2b)\n",
        "\n",
        "ax.set_xlabel('x (m)')\n",
        "ax.set_xlim([0, 10])\n",
        "ax.set_ylim([0, 10])\n",
        "ax.set_title('Sensors configuration b')\n",
        "\n",
        "# o Person's position\n",
        "# Define and solve the new system of linear equations (same as 5.2 but using the laser 2 position b)\n",
        "#--- Your solution ---#\n",
        "A = np.array([a1, -1, a2b, -1]).reshape(2, 2)\n",
        "k = np.array([-b1, -b2b]).reshape(2, 1)\n",
        "u3 = np.linalg.solve(A, k)\n",
        "print(u3)\n",
        "\n",
        "# o Perturbation\n",
        "# modify A\n",
        "#--- Your solution ---#\n",
        "A = np.array([a1+p, -1, a2b-p, -1]).reshape(2, 2)\n",
        "k = np.array([-b1, -b2b]).reshape(2, 1)\n",
        "u4 = np.linalg.solve(A, k)\n",
        "print('ERROR (m):', np.linalg.norm(u3-u4))\n",
        "\n",
        "# o Add a black dot where the person is\n",
        "#--- Your solution ---#\n",
        "ax.plot(6, 4,'.', color='black', markersize=10, label = 'person')\n",
        "\n",
        "ax.legend()\n",
        "plt.show()"
      ]
    },
    {
      "cell_type": "markdown",
      "id": "r6o7McZIPrID",
      "metadata": {
        "id": "r6o7McZIPrID"
      },
      "source": [
        "The system is more robust because there a now the lines are less parallel meaning the person's position isn't leveraged in the same way."
      ]
    },
    {
      "cell_type": "code",
      "execution_count": null,
      "id": "HivggGOXNphv",
      "metadata": {
        "id": "HivggGOXNphv"
      },
      "outputs": [],
      "source": []
    }
  ],
  "metadata": {
    "colab": {
      "provenance": []
    },
    "kernelspec": {
      "display_name": "Python 3.8.15 ('base')",
      "language": "python",
      "name": "python3"
    },
    "language_info": {
      "codemirror_mode": {
        "name": "ipython",
        "version": 3
      },
      "file_extension": ".py",
      "mimetype": "text/x-python",
      "name": "python",
      "nbconvert_exporter": "python",
      "pygments_lexer": "ipython3",
      "version": "3.8.15"
    },
    "vscode": {
      "interpreter": {
        "hash": "5a9e47e449e444945a2f59043c3ed9b60cb3afc8170ba36b289aa485480a9815"
      }
    }
  },
  "nbformat": 4,
  "nbformat_minor": 5
}
