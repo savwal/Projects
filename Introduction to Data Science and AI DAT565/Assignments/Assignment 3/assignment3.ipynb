{
 "cells": [
  {
   "cell_type": "code",
   "execution_count": 1,
   "metadata": {},
   "outputs": [],
   "source": [
    "import pandas as pd\n",
    "import os\n",
    "from pathlib import Path\n",
    "from sklearn.model_selection import train_test_split\n",
    "from sklearn.feature_extraction.text import CountVectorizer\n",
    "from sklearn.naive_bayes import MultinomialNB, BernoulliNB\n",
    "from sklearn import metrics\n",
    "import seaborn as sns\n",
    "import matplotlib.pyplot as plt\n",
    "from collections import Counter"
   ]
  },
  {
   "cell_type": "code",
   "execution_count": 10,
   "metadata": {},
   "outputs": [
    {
     "name": "stdout",
     "output_type": "stream",
     "text": [
      "hard ham:  250\n",
      "easy ham:  2551\n",
      "spam:  501\n"
     ]
    }
   ],
   "source": [
    "def load_emails(path, email_type):\n",
    "    rows = []\n",
    "    for email in os.listdir(path):\n",
    "        content = Path(path, email).read_text(encoding='latin-1')\n",
    "        contents = {'Type': email_type, 'Content': content}\n",
    "        rows.append(contents)\n",
    "        \n",
    "    return pd.DataFrame(rows, columns=['Type', 'Content'])\n",
    "    \n",
    "hard_ham = load_emails('hard_ham/', 'ham')\n",
    "easy_ham = load_emails('easy_ham/', 'ham')\n",
    "spam = load_emails('spam/', 'spam')\n",
    "\n",
    "print('hard ham: ', len(hard_ham))\n",
    "print('easy ham: ', len(easy_ham))\n",
    "print('spam: ', len(spam))"
   ]
  },
  {
   "cell_type": "code",
   "execution_count": 7,
   "metadata": {},
   "outputs": [],
   "source": [
    "def bayes(X_train, X_test, Y_trainlabel, Y_testlabel, filter_words=None):\n",
    "    vectorizer = CountVectorizer(stop_words=filter_words, encoding='latin-1')\n",
    "    X_train_count = vectorizer.fit_transform(X_train)\n",
    "    X_test_count = vectorizer.transform(X_test)\n",
    "\n",
    "    # 1. Multinomial Naive Bayes - discrete data. Total Count\n",
    "    multinomial_model = MultinomialNB()\n",
    "    multinomial_model.fit(X_train_count, Y_trainlabel)\n",
    "    multinomial_pred = multinomial_model.predict(X_test_count)\n",
    "\n",
    "    # 2. Bernoulli Naive Bayes - binary\n",
    "    vectorizer = CountVectorizer(stop_words=filter_words, encoding='latin-1', binary=True)\n",
    "    X_train_count = vectorizer.fit_transform(X_train)\n",
    "    X_test_count = vectorizer.transform(X_test)\n",
    "    bernoulli_model = BernoulliNB()\n",
    "    bernoulli_model.fit(X_train_count, Y_trainlabel)\n",
    "    bernoulli_pred = bernoulli_model.predict(X_test_count)\n",
    "\n",
    "    multinomial_cm = metrics.confusion_matrix(Y_testlabel, multinomial_pred)\n",
    "    bernoulli_cm = metrics.confusion_matrix(Y_testlabel, bernoulli_pred)\n",
    "    \n",
    "    mTN = multinomial_cm[0][0]\n",
    "    mFN = multinomial_cm[1][0]\n",
    "    mTP = multinomial_cm[1][1]\n",
    "    mFP = multinomial_cm[0][1]\n",
    "    \n",
    "    bTN = bernoulli_cm[0][0]\n",
    "    bFN = bernoulli_cm[1][0]\n",
    "    bTP = bernoulli_cm[1][1]\n",
    "    bFP = bernoulli_cm[0][1]\n",
    "    \n",
    "    # Make subplots\n",
    "    fig, ax = plt.subplots(1,2)\n",
    "    fig.set_size_inches(12, 4)\n",
    "    labels=['Spam', 'Not Spam']\n",
    "    \n",
    "    sns.heatmap(multinomial_cm, annot=True, fmt='d', xticklabels=labels, yticklabels=labels, cmap=\"Blues\", ax=ax[0])\n",
    "    ax[0].set_ylabel('Predicted')\n",
    "    ax[0].set_xlabel('Actual')\n",
    "    ax[0].set_title('Multinomial')\n",
    "    \n",
    "    sns.heatmap(bernoulli_cm, annot=True, fmt='d', xticklabels=labels, yticklabels=labels, cmap=\"Blues\", ax=ax[1])\n",
    "    ax[1].set_ylabel('Predicted')\n",
    "    ax[1].set_xlabel('Actual')\n",
    "    ax[1].set_title('Bernoulli')\n",
    "    \n",
    "    # Scores TPR = TP/TP+FN, TNR = TN/FP+TN\n",
    "    print('Multinomial %: ', accuracy_score(Y_testlabel, multinomial_pred))\n",
    "    print('True Spam: ', \"{:.2f}\".format(mTP /(mFP+mTP)))\n",
    "    print('True Ham: ', \"{:.2f}\".format(mTN /(mTN+mFN)))\n",
    "    \n",
    "    print('Bernoulli %: ', accuracy_score(Y_testlabel, bernoulli_pred)) \n",
    "    print('True Spam: ', \"{:.2f}\".format(bTP /(bFP+bTP)))\n",
    "    print('True Ham: ', \"{:.2f}\".format(bTN /(bTN+bFN)))"
   ]
  },
  {
   "cell_type": "code",
   "execution_count": 9,
   "metadata": {},
   "outputs": [
    {
     "ename": "NameError",
     "evalue": "name 'accuracy_score' is not defined",
     "output_type": "error",
     "traceback": [
      "\u001b[1;31m---------------------------------------------------------------------------\u001b[0m",
      "\u001b[1;31mNameError\u001b[0m                                 Traceback (most recent call last)",
      "Cell \u001b[1;32mIn[9], line 16\u001b[0m\n\u001b[0;32m     13\u001b[0m X_train \u001b[38;5;241m=\u001b[39m X_train\u001b[38;5;241m.\u001b[39mContent\n\u001b[0;32m     14\u001b[0m X_test \u001b[38;5;241m=\u001b[39m X_test\u001b[38;5;241m.\u001b[39mContent\n\u001b[1;32m---> 16\u001b[0m \u001b[43mbayes\u001b[49m\u001b[43m(\u001b[49m\u001b[43mX_train\u001b[49m\u001b[43m,\u001b[49m\u001b[43m \u001b[49m\u001b[43mX_test\u001b[49m\u001b[43m,\u001b[49m\u001b[43m \u001b[49m\u001b[43mY_trainlabel\u001b[49m\u001b[43m,\u001b[49m\u001b[43m \u001b[49m\u001b[43mY_testlabel\u001b[49m\u001b[43m)\u001b[49m\n",
      "Cell \u001b[1;32mIn[7], line 48\u001b[0m, in \u001b[0;36mbayes\u001b[1;34m(X_train, X_test, Y_trainlabel, Y_testlabel, filter_words)\u001b[0m\n\u001b[0;32m     45\u001b[0m ax[\u001b[38;5;241m1\u001b[39m]\u001b[38;5;241m.\u001b[39mset_title(\u001b[38;5;124m'\u001b[39m\u001b[38;5;124mBernoulli\u001b[39m\u001b[38;5;124m'\u001b[39m)\n\u001b[0;32m     47\u001b[0m \u001b[38;5;66;03m# Scores TPR = TP/TP+FN, TNR = TN/FP+TN\u001b[39;00m\n\u001b[1;32m---> 48\u001b[0m \u001b[38;5;28mprint\u001b[39m(\u001b[38;5;124m'\u001b[39m\u001b[38;5;124mMultinomial \u001b[39m\u001b[38;5;124m%\u001b[39m\u001b[38;5;124m: \u001b[39m\u001b[38;5;124m'\u001b[39m, \u001b[43maccuracy_score\u001b[49m(Y_testlabel, multinomial_pred))\n\u001b[0;32m     49\u001b[0m \u001b[38;5;28mprint\u001b[39m(\u001b[38;5;124m'\u001b[39m\u001b[38;5;124mTrue Spam: \u001b[39m\u001b[38;5;124m'\u001b[39m, \u001b[38;5;124m\"\u001b[39m\u001b[38;5;132;01m{:.2f}\u001b[39;00m\u001b[38;5;124m\"\u001b[39m\u001b[38;5;241m.\u001b[39mformat(mTP \u001b[38;5;241m/\u001b[39m(mFP\u001b[38;5;241m+\u001b[39mmTP)))\n\u001b[0;32m     50\u001b[0m \u001b[38;5;28mprint\u001b[39m(\u001b[38;5;124m'\u001b[39m\u001b[38;5;124mTrue Ham: \u001b[39m\u001b[38;5;124m'\u001b[39m, \u001b[38;5;124m\"\u001b[39m\u001b[38;5;132;01m{:.2f}\u001b[39;00m\u001b[38;5;124m\"\u001b[39m\u001b[38;5;241m.\u001b[39mformat(mTN \u001b[38;5;241m/\u001b[39m(mTN\u001b[38;5;241m+\u001b[39mmFN)))\n",
      "\u001b[1;31mNameError\u001b[0m: name 'accuracy_score' is not defined"
     ]
    },
    {
     "data": {
      "image/png": "[encoded data removed]",
      "text/plain": [
       "<Figure size 1200x400 with 4 Axes>"
      ]
     },
     "metadata": {},
     "output_type": "display_data"
    }
   ],
   "source": [
    "easy_ham_sampled = easy_ham.sample(501)\n",
    "\n",
    "spam_train = spam.sample(frac = 0.8,random_state=25)\n",
    "spam_test = spam.drop(spam_train.index,axis = 0)\n",
    "\n",
    "ham_train = easy_ham_sampled.sample(frac = 0.8,random_state=25)\n",
    "ham_test = easy_ham_sampled.drop(ham_train.index,axis = 0)\n",
    "\n",
    "X_train = pd.concat([ham_train,spam_train])\n",
    "X_test = pd.concat([ham_test,spam_test])\n",
    "Y_trainlabel = X_train.Type\n",
    "Y_testlabel = X_test.Type\n",
    "X_train = X_train.Content\n",
    "X_test = X_test.Content\n",
    "\n",
    "bayes(X_train, X_test, Y_trainlabel, Y_testlabel)"
   ]
  }
 ],
 "metadata": {
  "kernelspec": {
   "display_name": "Python 3",
   "language": "python",
   "name": "python3"
  },
  "language_info": {
   "codemirror_mode": {
    "name": "ipython",
    "version": 3
   },
   "file_extension": ".py",
   "mimetype": "text/x-python",
   "name": "python",
   "nbconvert_exporter": "python",
   "pygments_lexer": "ipython3",
   "version": "3.10.11"
  }
 },
 "nbformat": 4,
 "nbformat_minor": 2
}
