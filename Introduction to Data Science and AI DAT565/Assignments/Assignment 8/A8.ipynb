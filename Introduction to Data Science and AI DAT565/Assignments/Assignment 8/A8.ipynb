{
 "cells": [
  {
   "cell_type": "code",
   "execution_count": 28,
   "metadata": {},
   "outputs": [
    {
     "name": "stdout",
     "output_type": "stream",
     "text": [
      "767\n"
     ]
    }
   ],
   "source": [
    "import pandas as pd\n",
    "\n",
    "df = pd.read_csv('HR_comma_sep.csv')\n",
    "fuck_ups =  df[df['Work_accident']>0] \n",
    "print(len(df[df['Department']=='accounting']))"
   ]
  },
  {
   "cell_type": "code",
   "execution_count": 10,
   "metadata": {},
   "outputs": [
    {
     "name": "stdout",
     "output_type": "stream",
     "text": [
      "89 97 164 103 138 132 134 587 345 381\n"
     ]
    }
   ],
   "source": [
    "hr = 186 - 97\n",
    "accounting = 97\n",
    "It = 350-186\n",
    "management = 453-350\n",
    "marketing = 591-453\n",
    "product = 723-591\n",
    "RandD = 857 -723\n",
    "sales = 1444-857\n",
    "supp = 1789-1444\n",
    "tech = 2170-1789\n",
    "\n",
    "print(hr, accounting, It, management, marketing, product, RandD, sales, supp, tech)"
   ]
  }
 ],
 "metadata": {
  "kernelspec": {
   "display_name": "Python 3",
   "language": "python",
   "name": "python3"
  },
  "language_info": {
   "codemirror_mode": {
    "name": "ipython",
    "version": 3
   },
   "file_extension": ".py",
   "mimetype": "text/x-python",
   "name": "python",
   "nbconvert_exporter": "python",
   "pygments_lexer": "ipython3",
   "version": "3.10.11"
  }
 },
 "nbformat": 4,
 "nbformat_minor": 2
}
