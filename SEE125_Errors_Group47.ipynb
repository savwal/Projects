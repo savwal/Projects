{
 "cells": [
  {
   "cell_type": "markdown",
   "id": "167c1740",
   "metadata": {
    "id": "167c1740",
    "tags": []
   },
   "source": [
    "# SEE125: Error analysis and floating point approximation "
   ]
  },
  {
   "cell_type": "markdown",
   "id": "8fae43ee-b0f9-478c-8eaa-9b7e08bfb078",
   "metadata": {
    "id": "8fae43ee-b0f9-478c-8eaa-9b7e08bfb078"
   },
   "source": [
    "## Here fill in:\n",
    "- **Group Nr.**: 47\n",
    "- **Names**: Savinjith Walisadeera, Adam Herbertsson, Tobias Riedel\n",
    "- **Date of hand-in**:"
   ]
  },
  {
   "cell_type": "markdown",
   "id": "930fd085",
   "metadata": {
    "id": "930fd085",
    "tags": []
   },
   "source": [
    "### In this set of exercises you will:\n",
    "- Practice with error propagation\n",
    "- Consider the limitations of numerical calculations\n",
    "- Experiment with rounding\n",
    "- Look at how numbers are represented in Python\n"
   ]
  },
  {
   "cell_type": "markdown",
   "id": "e3bf1753",
   "metadata": {
    "id": "e3bf1753"
   },
   "source": [
    "## Exercise 1: error propagation\n",
    "In the lecture we have looked at the propagation of the relative error in the case of addition and subtraction and provided an upper bound for the error. Here we give the example for multiplication. After that, you should determine, in a way similar as to the one used for multiplication, the propagation of the relative error in the case of division $x=a/b$. \n",
    "- Write your results (using the *latex* style) in a Markdown box.\n",
    "- Write a few lines of python code for $a=b=1$ and relative errors of $10\\%$ to test the inequality you derived AS WELL AS the one derived here for multiplication."
   ]
  },
  {
   "cell_type": "markdown",
   "id": "8e90f65c",
   "metadata": {
    "id": "8e90f65c"
   },
   "source": [
    "Here is the example for multiplication:\n",
    "$$x=a\\cdot b,~{\\rm and~} {\\tilde x} = {\\tilde a}\\cdot{\\tilde b}$$\n",
    "where, the relative errors mean that $$\\delta a=({\\tilde a} - a)/a, \\delta b=({\\tilde b} - b)/b$$\n",
    "and similarly (the value to determine)\n",
    "$$\\delta x = ({\\tilde x}-x)/x = {\\tilde x}/x - 1$$<br>\n",
    "$${\\tilde x}/x = {\\tilde a}/a \\cdot {\\tilde b}/b$$\n",
    "$$ = (1+\\delta a)\\cdot(1+\\delta b)$$\n",
    "Thus\n",
    "$$\\delta x = \\delta a + \\Delta b + \\delta a\\delta b$$\n",
    "Only for $\\delta a\\delta b << (\\delta a + \\delta b)$ can this be approximated as\n",
    "$$|\\delta x| \\leq (|\\delta a| + |\\delta b|)$$ "
   ]
  },
  {
   "attachments": {},
   "cell_type": "markdown",
   "id": "9159262c-3cd8-4029-9edc-b1a76c975b85",
   "metadata": {
    "id": "9159262c-3cd8-4029-9edc-b1a76c975b85"
   },
   "source": [
    "For division:\n",
    "$$x=\\frac{a}{b},~{\\rm and~} {\\tilde x} = \\frac{\\tilde a}{\\tilde b}$$\n",
    "where, the relative errors mean that $$\\delta a=({\\tilde a} - a)/a, \\delta b=({ \\tilde b } - b)/b$$\n",
    "and similarly (the value to be determined)\n",
    "$$\\delta x = ({\\tilde x}-x)/x = {\\tilde x}/x - 1$$<br>\n",
    "$${\\tilde x}/x -1 = \\frac{{\\tilde a}}{\\tilde b} / \\frac{a}{b}-1$$\n",
    "\n",
    "$$ = \\frac{a(\\delta a+1)}{a}\\cdot\\frac{b}{b(\\delta b+1)}-1 $$\n",
    "\n",
    "$$ = \\frac{1+\\delta a}{1+\\delta b} - 1$$\n",
    "Thus\n",
    "$$ \\delta x = \\frac{\\delta a - \\delta b}{1+\\delta b}$$\n",
    "Only for $\\delta b << 1$ can this be approximated as\n",
    "$$ |\\delta x| \\leq \\frac{|\\delta a| + |\\delta b|}{1-|\\delta b|}$$ \n",
    "\n"
   ]
  },
  {
   "cell_type": "code",
   "execution_count": 2,
   "id": "48faa2a8",
   "metadata": {
    "colab": {
     "base_uri": "https://localhost:8080/"
    },
    "id": "48faa2a8",
    "outputId": "229e1023-bb09-48fb-a322-d395085ad3de"
   },
   "outputs": [
    {
     "name": "stdout",
     "output_type": "stream",
     "text": [
      "The inequality for multiplication differs by 0.20999999999999996\n",
      "The inequality for division differs by 0.2222222222222223\n"
     ]
    }
   ],
   "source": [
    "#Your code for testing multiplication (derived above) and division (derived by yourself).\n",
    "# Multiplication\n",
    "a, b = 1, 1\n",
    "ap, bp = 1.1, 0.9 # 10% error\n",
    "\n",
    "da = (ap-a)/a\n",
    "db = (bp-b)/b\n",
    "\n",
    "dx = da+db+da*db\n",
    "dx1 = abs(da)+abs(db)\n",
    "\n",
    "print('The inequality for multiplication differs by', abs(dx1)-dx)\n",
    "\n",
    "\n",
    "# Division\n",
    "dx = (abs(da)+abs(db))/(1-abs(db))\n",
    "print('The inequality for division differs by', dx)"
   ]
  },
  {
   "cell_type": "markdown",
   "id": "a84d41ad",
   "metadata": {
    "id": "a84d41ad"
   },
   "source": [
    "## Exercise 2: underflow and overflox\n",
    "There is a limit to how large a 'floating-point' number (a positive or negative number that includes a decimal point) Python can deal with. This is called 'overflow'. That is illustrated in the following code:"
   ]
  },
  {
   "cell_type": "code",
   "execution_count": 3,
   "id": "ff861fe5",
   "metadata": {
    "id": "ff861fe5",
    "outputId": "33e6cffe-d62a-41d6-bbb8-33f28d51500e"
   },
   "outputs": [
    {
     "name": "stdout",
     "output_type": "stream",
     "text": [
      "0 4.49423283715579e+307\n",
      "1 8.98846567431158e+307\n",
      "2 inf\n"
     ]
    }
   ],
   "source": [
    "large = 2.**1021\n",
    "for i in range(3):\n",
    "    large *= 2\n",
    "    print(i, large)"
   ]
  },
  {
   "cell_type": "markdown",
   "id": "6ca892ae",
   "metadata": {
    "id": "6ca892ae"
   },
   "source": [
    "Modify this code to instead investigate 'underflow' in Python. This is a limit on the smallest floating point number that Python can deal with. Make sure you start from a number that is sufficiently small in order to make your output manageable."
   ]
  },
  {
   "cell_type": "code",
   "execution_count": 4,
   "id": "f42f25ba",
   "metadata": {
    "colab": {
     "base_uri": "https://localhost:8080/"
    },
    "id": "f42f25ba",
    "outputId": "f87f1a01-1295-41bc-a2dc-5482a9f86e9e"
   },
   "outputs": [
    {
     "name": "stdout",
     "output_type": "stream",
     "text": [
      "0 1e-323\n",
      "1 5e-324\n",
      "2 0.0\n"
     ]
    }
   ],
   "source": [
    "small = 2.**-1072\n",
    "for i in range(3):\n",
    "    small /= 2\n",
    "    print(i, small)"
   ]
  },
  {
   "cell_type": "markdown",
   "id": "6ea5dc4f",
   "metadata": {
    "id": "6ea5dc4f"
   },
   "source": [
    "The above was done for floating point numbers. Now investigate whether or not overflow occurs for integers (numbers without a decimal point) in Python. Start from a very large positive number and increment from there. We use `sys.maxsize` to determine a good starting point. (This is the maximum size of, for example, a list or array). Increase this number in no more than 10 steps and see if there is a limit."
   ]
  },
  {
   "cell_type": "code",
   "execution_count": 5,
   "id": "7549ed1f",
   "metadata": {
    "colab": {
     "base_uri": "https://localhost:8080/"
    },
    "id": "7549ed1f",
    "outputId": "7e04f460-4c87-439a-d16b-552b798edc44"
   },
   "outputs": [
    {
     "name": "stdout",
     "output_type": "stream",
     "text": [
      "9223372036854775807 <class 'int'>\n",
      "0 18446744073709551614\n",
      "1 36893488147419103228\n",
      "2 73786976294838206456\n",
      "3 147573952589676412912\n",
      "4 295147905179352825824\n",
      "5 590295810358705651648\n",
      "6 1180591620717411303296\n",
      "7 2361183241434822606592\n",
      "8 4722366482869645213184\n",
      "9 9444732965739290426368\n"
     ]
    }
   ],
   "source": [
    "import sys\n",
    "large = sys.maxsize\n",
    "print(large,type(large))\n",
    "\n",
    "for i in range(10):\n",
    "  large *= 2\n",
    "  print(i, large)\n"
   ]
  },
  {
   "cell_type": "markdown",
   "id": "f968d953",
   "metadata": {
    "id": "f968d953"
   },
   "source": [
    "## Exercise 3: Rounding\n",
    "\n",
    "Run this code which performs (in a non-optimal way) $f(x,n)=\\sqrt[n]{x^n}$:"
   ]
  },
  {
   "cell_type": "code",
   "execution_count": 6,
   "id": "d6ac1018",
   "metadata": {
    "colab": {
     "base_uri": "https://localhost:8080/"
    },
    "id": "d6ac1018",
    "outputId": "fcf6930c-6eda-4ef4-9e17-dea60756acfd"
   },
   "outputs": [
    {
     "name": "stdout",
     "output_type": "stream",
     "text": [
      "5.0 1.0\n",
      "0.5 0.0\n"
     ]
    }
   ],
   "source": [
    "from math import sqrt\n",
    "\n",
    "def f(x,nmax=100):\n",
    "    for i in range(nmax):\n",
    "        x=sqrt(x)\n",
    "    for i in range(nmax):\n",
    "        x = x**2\n",
    "    return x\n",
    "\n",
    "for xin in (5., 0.5):\n",
    "    xout = f(xin)\n",
    "    print(xin, xout)"
   ]
  },
  {
   "cell_type": "markdown",
   "id": "73c0d1a1",
   "metadata": {
    "id": "73c0d1a1"
   },
   "source": [
    "You would expect the output to be $f(x)=x$ since the code only performs `nmax` square roots and the same number of squares.\n",
    "\n",
    "> Indented block\n",
    "\n",
    "\n",
    "\n",
    "- Explain (in a Markdown or Raw box) what causes the output to be different from what you expected. \n",
    "- Modify the code to include diagnostics (typically ```print``` statement to check for intermediate steps) you can use to determine this cause. For which values of $n$ does the code go wrong? (you should find $n=51$ Aand $n=61$ for $x=5$ and $0.5$ respectively)"
   ]
  },
  {
   "cell_type": "markdown",
   "id": "f6fe0c93-41bc-49c0-927e-e95db0c11ec1",
   "metadata": {
    "id": "f6fe0c93-41bc-49c0-927e-e95db0c11ec1"
   },
   "source": [
    "As can be seen in the output of the code below, the first part of the function is causing the failure. This is because when the sqrt function is called enough times x looses percision which eventually causes it to become 1 in the case of xin=5 and 0.999... for xin=0.5. In the first case 1^n is always 1 which makes it stay at one. The problem with the second case it that it looses a lot of percision and that it won't go all the way to 1 but will stay just under no matter how many times the square root function is called, however when going the reverse order (power function) it starts to go down right away and keeps going down faster because all those steps that were \"lost\" by hitting the roof.\n"
   ]
  },
  {
   "cell_type": "code",
   "execution_count": 7,
   "id": "a8938070",
   "metadata": {
    "colab": {
     "base_uri": "https://localhost:8080/"
    },
    "id": "a8938070",
    "outputId": "1eb8b370-505b-4344-d82a-6c453c412a54",
    "tags": []
   },
   "outputs": [
    {
     "name": "stdout",
     "output_type": "stream",
     "text": [
      "xin: 5.0\n",
      "Sqrt ( 0 ): 2.23606797749979\n",
      "Sqrt ( 1 ): 1.4953487812212205\n",
      "Sqrt ( 2 ): 1.2228445449938519\n",
      "Sqrt ( 3 ): 1.1058230170302352\n",
      "Sqrt ( 4 ): 1.0515811984959769\n",
      "Sqrt ( 5 ): 1.0254663322098765\n",
      "Sqrt ( 6 ): 1.0126531154397722\n",
      "Sqrt ( 7 ): 1.006306670672401\n",
      "Sqrt ( 8 ): 1.0031483791904372\n",
      "Sqrt ( 9 ): 1.0015729525054264\n",
      "Sqrt ( 10 ): 1.0007861672232619\n",
      "Sqrt ( 11 ): 1.0003930063846218\n",
      "Sqrt ( 12 ): 1.0001964838893516\n",
      "Sqrt ( 13 ): 1.00009823711941\n",
      "Sqrt ( 14 ): 1.0000491173534478\n",
      "Sqrt ( 15 ): 1.000024558375167\n",
      "Sqrt ( 16 ): 1.0000122791121953\n",
      "Sqrt ( 17 ): 1.0000061395372506\n",
      "Sqrt ( 18 ): 1.0000030697639135\n",
      "Sqrt ( 19 ): 1.000001534880779\n",
      "Sqrt ( 20 ): 1.000000767440095\n",
      "Sqrt ( 21 ): 1.0000003837199738\n",
      "Sqrt ( 22 ): 1.0000001918599686\n",
      "Sqrt ( 23 ): 1.0000000959299797\n",
      "Sqrt ( 24 ): 1.0000000479649886\n",
      "Sqrt ( 25 ): 1.000000023982494\n",
      "Sqrt ( 26 ): 1.0000000119912469\n",
      "Sqrt ( 27 ): 1.0000000059956233\n",
      "Sqrt ( 28 ): 1.0000000029978116\n",
      "Sqrt ( 29 ): 1.0000000014989057\n",
      "Sqrt ( 30 ): 1.0000000007494527\n",
      "Sqrt ( 31 ): 1.0000000003747263\n",
      "Sqrt ( 32 ): 1.000000000187363\n",
      "Sqrt ( 33 ): 1.0000000000936815\n",
      "Sqrt ( 34 ): 1.0000000000468408\n",
      "Sqrt ( 35 ): 1.0000000000234204\n",
      "Sqrt ( 36 ): 1.0000000000117102\n",
      "Sqrt ( 37 ): 1.000000000005855\n",
      "Sqrt ( 38 ): 1.0000000000029274\n",
      "Sqrt ( 39 ): 1.0000000000014637\n",
      "Sqrt ( 40 ): 1.0000000000007319\n",
      "Sqrt ( 41 ): 1.000000000000366\n",
      "Sqrt ( 42 ): 1.000000000000183\n",
      "Sqrt ( 43 ): 1.0000000000000915\n",
      "Sqrt ( 44 ): 1.0000000000000457\n",
      "Sqrt ( 45 ): 1.0000000000000229\n",
      "Sqrt ( 46 ): 1.0000000000000113\n",
      "Sqrt ( 47 ): 1.0000000000000056\n",
      "Sqrt ( 48 ): 1.0000000000000027\n",
      "Sqrt ( 49 ): 1.0000000000000013\n",
      "Sqrt ( 50 ): 1.0000000000000007\n",
      "Sqrt ( 51 ): 1.0000000000000002\n",
      "Sqrt ( 52 ): 1.0\n",
      "Sqrt ( 53 ): 1.0\n",
      "Sqrt ( 54 ): 1.0\n",
      "Sqrt ( 55 ): 1.0\n",
      "Sqrt ( 56 ): 1.0\n",
      "Sqrt ( 57 ): 1.0\n",
      "Sqrt ( 58 ): 1.0\n",
      "Sqrt ( 59 ): 1.0\n",
      "Sqrt ( 60 ): 1.0\n",
      "Sqrt ( 61 ): 1.0\n",
      "Sqrt ( 62 ): 1.0\n",
      "Sqrt ( 63 ): 1.0\n",
      "Sqrt ( 64 ): 1.0\n",
      "Sqrt ( 65 ): 1.0\n",
      "Sqrt ( 66 ): 1.0\n",
      "Sqrt ( 67 ): 1.0\n",
      "Sqrt ( 68 ): 1.0\n",
      "Sqrt ( 69 ): 1.0\n",
      "Sqrt ( 70 ): 1.0\n",
      "Sqrt ( 71 ): 1.0\n",
      "Sqrt ( 72 ): 1.0\n",
      "Sqrt ( 73 ): 1.0\n",
      "Sqrt ( 74 ): 1.0\n",
      "Sqrt ( 75 ): 1.0\n",
      "Sqrt ( 76 ): 1.0\n",
      "Sqrt ( 77 ): 1.0\n",
      "Sqrt ( 78 ): 1.0\n",
      "Sqrt ( 79 ): 1.0\n",
      "Sqrt ( 80 ): 1.0\n",
      "Sqrt ( 81 ): 1.0\n",
      "Sqrt ( 82 ): 1.0\n",
      "Sqrt ( 83 ): 1.0\n",
      "Sqrt ( 84 ): 1.0\n",
      "Sqrt ( 85 ): 1.0\n",
      "Sqrt ( 86 ): 1.0\n",
      "Sqrt ( 87 ): 1.0\n",
      "Sqrt ( 88 ): 1.0\n",
      "Sqrt ( 89 ): 1.0\n",
      "Sqrt ( 90 ): 1.0\n",
      "Sqrt ( 91 ): 1.0\n",
      "Sqrt ( 92 ): 1.0\n",
      "Sqrt ( 93 ): 1.0\n",
      "Sqrt ( 94 ): 1.0\n",
      "Sqrt ( 95 ): 1.0\n",
      "Sqrt ( 96 ): 1.0\n",
      "Sqrt ( 97 ): 1.0\n",
      "Sqrt ( 98 ): 1.0\n",
      "Sqrt ( 99 ): 1.0\n",
      "Pow ( 0 ): 1.0\n",
      "Pow ( 1 ): 1.0\n",
      "Pow ( 2 ): 1.0\n",
      "Pow ( 3 ): 1.0\n",
      "Pow ( 4 ): 1.0\n",
      "Pow ( 5 ): 1.0\n",
      "Pow ( 6 ): 1.0\n",
      "Pow ( 7 ): 1.0\n",
      "Pow ( 8 ): 1.0\n",
      "Pow ( 9 ): 1.0\n",
      "Pow ( 10 ): 1.0\n",
      "Pow ( 11 ): 1.0\n",
      "Pow ( 12 ): 1.0\n",
      "Pow ( 13 ): 1.0\n",
      "Pow ( 14 ): 1.0\n",
      "Pow ( 15 ): 1.0\n",
      "Pow ( 16 ): 1.0\n",
      "Pow ( 17 ): 1.0\n",
      "Pow ( 18 ): 1.0\n",
      "Pow ( 19 ): 1.0\n",
      "Pow ( 20 ): 1.0\n",
      "Pow ( 21 ): 1.0\n",
      "Pow ( 22 ): 1.0\n",
      "Pow ( 23 ): 1.0\n",
      "Pow ( 24 ): 1.0\n",
      "Pow ( 25 ): 1.0\n",
      "Pow ( 26 ): 1.0\n",
      "Pow ( 27 ): 1.0\n",
      "Pow ( 28 ): 1.0\n",
      "Pow ( 29 ): 1.0\n",
      "Pow ( 30 ): 1.0\n",
      "Pow ( 31 ): 1.0\n",
      "Pow ( 32 ): 1.0\n",
      "Pow ( 33 ): 1.0\n",
      "Pow ( 34 ): 1.0\n",
      "Pow ( 35 ): 1.0\n",
      "Pow ( 36 ): 1.0\n",
      "Pow ( 37 ): 1.0\n",
      "Pow ( 38 ): 1.0\n",
      "Pow ( 39 ): 1.0\n",
      "Pow ( 40 ): 1.0\n",
      "Pow ( 41 ): 1.0\n",
      "Pow ( 42 ): 1.0\n",
      "Pow ( 43 ): 1.0\n",
      "Pow ( 44 ): 1.0\n",
      "Pow ( 45 ): 1.0\n",
      "Pow ( 46 ): 1.0\n",
      "Pow ( 47 ): 1.0\n",
      "Pow ( 48 ): 1.0\n",
      "Pow ( 49 ): 1.0\n",
      "Pow ( 50 ): 1.0\n",
      "Pow ( 51 ): 1.0\n",
      "Pow ( 52 ): 1.0\n",
      "Pow ( 53 ): 1.0\n",
      "Pow ( 54 ): 1.0\n",
      "Pow ( 55 ): 1.0\n",
      "Pow ( 56 ): 1.0\n",
      "Pow ( 57 ): 1.0\n",
      "Pow ( 58 ): 1.0\n",
      "Pow ( 59 ): 1.0\n",
      "Pow ( 60 ): 1.0\n",
      "Pow ( 61 ): 1.0\n",
      "Pow ( 62 ): 1.0\n",
      "Pow ( 63 ): 1.0\n",
      "Pow ( 64 ): 1.0\n",
      "Pow ( 65 ): 1.0\n",
      "Pow ( 66 ): 1.0\n",
      "Pow ( 67 ): 1.0\n",
      "Pow ( 68 ): 1.0\n",
      "Pow ( 69 ): 1.0\n",
      "Pow ( 70 ): 1.0\n",
      "Pow ( 71 ): 1.0\n",
      "Pow ( 72 ): 1.0\n",
      "Pow ( 73 ): 1.0\n",
      "Pow ( 74 ): 1.0\n",
      "Pow ( 75 ): 1.0\n",
      "Pow ( 76 ): 1.0\n",
      "Pow ( 77 ): 1.0\n",
      "Pow ( 78 ): 1.0\n",
      "Pow ( 79 ): 1.0\n",
      "Pow ( 80 ): 1.0\n",
      "Pow ( 81 ): 1.0\n",
      "Pow ( 82 ): 1.0\n",
      "Pow ( 83 ): 1.0\n",
      "Pow ( 84 ): 1.0\n",
      "Pow ( 85 ): 1.0\n",
      "Pow ( 86 ): 1.0\n",
      "Pow ( 87 ): 1.0\n",
      "Pow ( 88 ): 1.0\n",
      "Pow ( 89 ): 1.0\n",
      "Pow ( 90 ): 1.0\n",
      "Pow ( 91 ): 1.0\n",
      "Pow ( 92 ): 1.0\n",
      "Pow ( 93 ): 1.0\n",
      "Pow ( 94 ): 1.0\n",
      "Pow ( 95 ): 1.0\n",
      "Pow ( 96 ): 1.0\n",
      "Pow ( 97 ): 1.0\n",
      "Pow ( 98 ): 1.0\n",
      "Pow ( 99 ): 1.0\n",
      "5.0 1.0\n",
      "\n",
      "xin: 0.5\n",
      "Sqrt ( 0 ): 0.7071067811865476\n",
      "Sqrt ( 1 ): 0.8408964152537146\n",
      "Sqrt ( 2 ): 0.9170040432046712\n",
      "Sqrt ( 3 ): 0.9576032806985736\n",
      "Sqrt ( 4 ): 0.9785720620877001\n",
      "Sqrt ( 5 ): 0.9892280131939755\n",
      "Sqrt ( 6 ): 0.9945994234836332\n",
      "Sqrt ( 7 ): 0.9972960560854701\n",
      "Sqrt ( 8 ): 0.9986471128909702\n",
      "Sqrt ( 9 ): 0.9993233275026507\n",
      "Sqrt ( 10 ): 0.9996616064962437\n",
      "Sqrt ( 11 ): 0.9998307889319291\n",
      "Sqrt ( 12 ): 0.9999153908866135\n",
      "Sqrt ( 13 ): 0.9999576945484312\n",
      "Sqrt ( 14 ): 0.999978847050492\n",
      "Sqrt ( 15 ): 0.9999894234693145\n",
      "Sqrt ( 16 ): 0.9999947117206743\n",
      "Sqrt ( 17 ): 0.9999973558568415\n",
      "Sqrt ( 18 ): 0.9999986779275468\n",
      "Sqrt ( 19 ): 0.999999338963555\n",
      "Sqrt ( 20 ): 0.9999996694817229\n",
      "Sqrt ( 21 ): 0.9999998347408479\n",
      "Sqrt ( 22 ): 0.9999999173704205\n",
      "Sqrt ( 23 ): 0.9999999586852094\n",
      "Sqrt ( 24 ): 0.9999999793426045\n",
      "Sqrt ( 25 ): 0.9999999896713022\n",
      "Sqrt ( 26 ): 0.999999994835651\n",
      "Sqrt ( 27 ): 0.9999999974178255\n",
      "Sqrt ( 28 ): 0.9999999987089128\n",
      "Sqrt ( 29 ): 0.9999999993544564\n",
      "Sqrt ( 30 ): 0.9999999996772282\n",
      "Sqrt ( 31 ): 0.9999999998386141\n",
      "Sqrt ( 32 ): 0.999999999919307\n",
      "Sqrt ( 33 ): 0.9999999999596535\n",
      "Sqrt ( 34 ): 0.9999999999798267\n",
      "Sqrt ( 35 ): 0.9999999999899133\n",
      "Sqrt ( 36 ): 0.9999999999949566\n",
      "Sqrt ( 37 ): 0.9999999999974782\n",
      "Sqrt ( 38 ): 0.9999999999987391\n",
      "Sqrt ( 39 ): 0.9999999999993695\n",
      "Sqrt ( 40 ): 0.9999999999996847\n",
      "Sqrt ( 41 ): 0.9999999999998423\n",
      "Sqrt ( 42 ): 0.9999999999999212\n",
      "Sqrt ( 43 ): 0.9999999999999606\n",
      "Sqrt ( 44 ): 0.9999999999999802\n",
      "Sqrt ( 45 ): 0.9999999999999901\n",
      "Sqrt ( 46 ): 0.999999999999995\n",
      "Sqrt ( 47 ): 0.9999999999999974\n",
      "Sqrt ( 48 ): 0.9999999999999987\n",
      "Sqrt ( 49 ): 0.9999999999999993\n",
      "Sqrt ( 50 ): 0.9999999999999997\n",
      "Sqrt ( 51 ): 0.9999999999999998\n",
      "Sqrt ( 52 ): 0.9999999999999999\n",
      "Sqrt ( 53 ): 0.9999999999999999\n",
      "Sqrt ( 54 ): 0.9999999999999999\n",
      "Sqrt ( 55 ): 0.9999999999999999\n",
      "Sqrt ( 56 ): 0.9999999999999999\n",
      "Sqrt ( 57 ): 0.9999999999999999\n",
      "Sqrt ( 58 ): 0.9999999999999999\n",
      "Sqrt ( 59 ): 0.9999999999999999\n",
      "Sqrt ( 60 ): 0.9999999999999999\n",
      "Sqrt ( 61 ): 0.9999999999999999\n",
      "Sqrt ( 62 ): 0.9999999999999999\n",
      "Sqrt ( 63 ): 0.9999999999999999\n",
      "Sqrt ( 64 ): 0.9999999999999999\n",
      "Sqrt ( 65 ): 0.9999999999999999\n",
      "Sqrt ( 66 ): 0.9999999999999999\n",
      "Sqrt ( 67 ): 0.9999999999999999\n",
      "Sqrt ( 68 ): 0.9999999999999999\n",
      "Sqrt ( 69 ): 0.9999999999999999\n",
      "Sqrt ( 70 ): 0.9999999999999999\n",
      "Sqrt ( 71 ): 0.9999999999999999\n",
      "Sqrt ( 72 ): 0.9999999999999999\n",
      "Sqrt ( 73 ): 0.9999999999999999\n",
      "Sqrt ( 74 ): 0.9999999999999999\n",
      "Sqrt ( 75 ): 0.9999999999999999\n",
      "Sqrt ( 76 ): 0.9999999999999999\n",
      "Sqrt ( 77 ): 0.9999999999999999\n",
      "Sqrt ( 78 ): 0.9999999999999999\n",
      "Sqrt ( 79 ): 0.9999999999999999\n",
      "Sqrt ( 80 ): 0.9999999999999999\n",
      "Sqrt ( 81 ): 0.9999999999999999\n",
      "Sqrt ( 82 ): 0.9999999999999999\n",
      "Sqrt ( 83 ): 0.9999999999999999\n",
      "Sqrt ( 84 ): 0.9999999999999999\n",
      "Sqrt ( 85 ): 0.9999999999999999\n",
      "Sqrt ( 86 ): 0.9999999999999999\n",
      "Sqrt ( 87 ): 0.9999999999999999\n",
      "Sqrt ( 88 ): 0.9999999999999999\n",
      "Sqrt ( 89 ): 0.9999999999999999\n",
      "Sqrt ( 90 ): 0.9999999999999999\n",
      "Sqrt ( 91 ): 0.9999999999999999\n",
      "Sqrt ( 92 ): 0.9999999999999999\n",
      "Sqrt ( 93 ): 0.9999999999999999\n",
      "Sqrt ( 94 ): 0.9999999999999999\n",
      "Sqrt ( 95 ): 0.9999999999999999\n",
      "Sqrt ( 96 ): 0.9999999999999999\n",
      "Sqrt ( 97 ): 0.9999999999999999\n",
      "Sqrt ( 98 ): 0.9999999999999999\n",
      "Sqrt ( 99 ): 0.9999999999999999\n",
      "Pow ( 0 ): 0.9999999999999998\n",
      "Pow ( 1 ): 0.9999999999999996\n",
      "Pow ( 2 ): 0.9999999999999991\n",
      "Pow ( 3 ): 0.9999999999999982\n",
      "Pow ( 4 ): 0.9999999999999964\n",
      "Pow ( 5 ): 0.9999999999999929\n",
      "Pow ( 6 ): 0.9999999999999858\n",
      "Pow ( 7 ): 0.9999999999999716\n",
      "Pow ( 8 ): 0.9999999999999432\n",
      "Pow ( 9 ): 0.9999999999998863\n",
      "Pow ( 10 ): 0.9999999999997726\n",
      "Pow ( 11 ): 0.9999999999995453\n",
      "Pow ( 12 ): 0.9999999999990905\n",
      "Pow ( 13 ): 0.999999999998181\n",
      "Pow ( 14 ): 0.999999999996362\n",
      "Pow ( 15 ): 0.999999999992724\n",
      "Pow ( 16 ): 0.9999999999854481\n",
      "Pow ( 17 ): 0.9999999999708962\n",
      "Pow ( 18 ): 0.9999999999417923\n",
      "Pow ( 19 ): 0.9999999998835847\n",
      "Pow ( 20 ): 0.9999999997671694\n",
      "Pow ( 21 ): 0.9999999995343387\n",
      "Pow ( 22 ): 0.9999999990686774\n",
      "Pow ( 23 ): 0.9999999981373549\n",
      "Pow ( 24 ): 0.9999999962747097\n",
      "Pow ( 25 ): 0.9999999925494194\n",
      "Pow ( 26 ): 0.9999999850988388\n",
      "Pow ( 27 ): 0.9999999701976778\n",
      "Pow ( 28 ): 0.9999999403953566\n",
      "Pow ( 29 ): 0.9999998807907167\n",
      "Pow ( 30 ): 0.9999997615814475\n",
      "Pow ( 31 ): 0.9999995231629519\n",
      "Pow ( 32 ): 0.9999990463261312\n",
      "Pow ( 33 ): 0.999998092653172\n",
      "Pow ( 34 ): 0.9999961853099819\n",
      "Pow ( 35 ): 0.9999923706345157\n",
      "Pow ( 36 ): 0.9999847413272387\n",
      "Pow ( 37 ): 0.9999694828873045\n",
      "Pow ( 38 ): 0.9999389667059031\n",
      "Pow ( 39 ): 0.9998779371368692\n",
      "Pow ( 40 ): 0.999755889173081\n",
      "Pow ( 41 ): 0.9995118379362579\n",
      "Pow ( 42 ): 0.9990239141747163\n",
      "Pow ( 43 ): 0.9980487810929708\n",
      "Pow ( 44 ): 0.9961013694411648\n",
      "Pow ( 45 ): 0.9922179382025639\n",
      "Pow ( 46 ): 0.9844964368909469\n",
      "Pow ( 47 ): 0.9692332342509702\n",
      "Pow ( 48 ): 0.939413062376596\n",
      "Pow ( 49 ): 0.8824969017637744\n",
      "Pow ( 50 ): 0.7788007816226609\n",
      "Pow ( 51 ): 0.6065306574560675\n",
      "Pow ( 52 ): 0.3678794384340895\n",
      "Pow ( 53 ): 0.13533528122258104\n",
      "Pow ( 54 ): 0.018315638343595095\n",
      "Pow ( 55 ): 0.0003354626079333709\n",
      "Pow ( 56 ): 1.125351613214585e-07\n",
      "Pow ( 57 ): 1.2664162533646689e-14\n",
      "Pow ( 58 ): 1.6038101267862054e-28\n",
      "Pow ( 59 ): 2.572206922781984e-56\n",
      "Pow ( 60 ): 6.616248453607563e-112\n",
      "Pow ( 61 ): 4.3774743599864475e-223\n",
      "Pow ( 62 ): 0.0\n",
      "Pow ( 63 ): 0.0\n",
      "Pow ( 64 ): 0.0\n",
      "Pow ( 65 ): 0.0\n",
      "Pow ( 66 ): 0.0\n",
      "Pow ( 67 ): 0.0\n",
      "Pow ( 68 ): 0.0\n",
      "Pow ( 69 ): 0.0\n",
      "Pow ( 70 ): 0.0\n",
      "Pow ( 71 ): 0.0\n",
      "Pow ( 72 ): 0.0\n",
      "Pow ( 73 ): 0.0\n",
      "Pow ( 74 ): 0.0\n",
      "Pow ( 75 ): 0.0\n",
      "Pow ( 76 ): 0.0\n",
      "Pow ( 77 ): 0.0\n",
      "Pow ( 78 ): 0.0\n",
      "Pow ( 79 ): 0.0\n",
      "Pow ( 80 ): 0.0\n",
      "Pow ( 81 ): 0.0\n",
      "Pow ( 82 ): 0.0\n",
      "Pow ( 83 ): 0.0\n",
      "Pow ( 84 ): 0.0\n",
      "Pow ( 85 ): 0.0\n",
      "Pow ( 86 ): 0.0\n",
      "Pow ( 87 ): 0.0\n",
      "Pow ( 88 ): 0.0\n",
      "Pow ( 89 ): 0.0\n",
      "Pow ( 90 ): 0.0\n",
      "Pow ( 91 ): 0.0\n",
      "Pow ( 92 ): 0.0\n",
      "Pow ( 93 ): 0.0\n",
      "Pow ( 94 ): 0.0\n",
      "Pow ( 95 ): 0.0\n",
      "Pow ( 96 ): 0.0\n",
      "Pow ( 97 ): 0.0\n",
      "Pow ( 98 ): 0.0\n",
      "Pow ( 99 ): 0.0\n",
      "0.5 0.0\n",
      "\n"
     ]
    }
   ],
   "source": [
    "# Your updated code including diagnostics to show where it goes wrong.\n",
    "from math import sqrt\n",
    "\n",
    "def f(x,nmax=100):\n",
    "    for i in range(nmax):\n",
    "        x=sqrt(x)\n",
    "        print('Sqrt (', i, '):', x)\n",
    "    for i in range(nmax):\n",
    "        x = x**2\n",
    "        print('Pow (', i, '):', x)\n",
    "    return x\n",
    "\n",
    "for xin in (5., 0.5):\n",
    "    print('xin:', xin)\n",
    "    xout = f(xin)\n",
    "    print(xin, xout, end='\\n\\n')"
   ]
  },
  {
   "cell_type": "markdown",
   "id": "0054a3a7",
   "metadata": {
    "id": "0054a3a7"
   },
   "source": [
    "## Exercise 4: Catastrophic cancellation\n",
    "\n",
    "We study the function $f(x)={{1-cos(x)}\\over{x^2}}$."
   ]
  },
  {
   "cell_type": "markdown",
   "id": "71399fbc",
   "metadata": {
    "id": "71399fbc"
   },
   "source": [
    "- Define the function and plot it using a grid of 100 points within (0, 10] (so not including 0 itself).\n",
    "- What limit to you expect to find for $x\\rightarrow 0$?\n",
    "- Calculate $f(x)$ for $x=1.2\\times10^{-8}$ using your defined function (and print the result).\n",
    "- Using relations between trigonometric functions, can you avoid the catastrophic cancellation and determine a new function that is identical with $f(x)$ that give you the correct result? (Remember that $\\cos{2x}=\\cos^2{x}-\\sin^2{x}$)\n",
    "- Overplot the two functions to show that they are indeed identical."
   ]
  },
  {
   "cell_type": "code",
   "execution_count": 8,
   "id": "79ca6424",
   "metadata": {
    "colab": {
     "base_uri": "https://localhost:8080/",
     "height": 300
    },
    "id": "79ca6424",
    "outputId": "43fb451a-f901-407f-b039-27905bc3bfb2"
   },
   "outputs": [
    {
     "name": "stdout",
     "output_type": "stream",
     "text": [
      "f: 0.7709882115452477\n",
      "g: 0.5\n"
     ]
    },
    {
     "data": {
      "image/png": "[encoded data removed]",
      "text/plain": [
       "<Figure size 640x480 with 1 Axes>"
      ]
     },
     "metadata": {},
     "output_type": "display_data"
    }
   ],
   "source": [
    "#Your code and answers here (don't forget to import matplotlib, and you can use the cos and sin from the math module\n",
    "import matplotlib as mpl\n",
    "import matplotlib.pyplot as plt\n",
    "import numpy as np\n",
    "\n",
    "def f(x):\n",
    "  return (1-np.cos(x))/x**2\n",
    "\n",
    "x = np.linspace(0, 10, 101)[1:]\n",
    "y = f(x)\n",
    "\n",
    "plt.plot((0, 10), (0.5, 0.5), label='y=0.5') # y=0.5\n",
    "plt.plot(x,y, label='f(x)')\n",
    "\n",
    "print('f:', f(1.2*10**-8))\n",
    "\n",
    "def g(x):\n",
    "  return 2*(np.sin(x/2)**2)/x**2\n",
    "\n",
    "print('g:', g(1.2*10**-8))\n",
    "\n",
    "y = g(x)\n",
    "plt.plot(x, y, label='g(x)')\n",
    "\n",
    "plt.legend()\n",
    "plt.show()"
   ]
  },
  {
   "cell_type": "markdown",
   "id": "29b42dad",
   "metadata": {
    "id": "29b42dad"
   },
   "source": [
    "## Exercise 5: Floating points\n",
    "\n",
    "- Write a Python code that converts single-precision (32-bit) floating point numbers from binary to decimal numbers, run the code for the single precision numbers `0 0000 0011 0111 1011 0000 0000 0000 000` and `1 0101 0101 0111 0110 0000 0000 0001 011`. [You recognise that these are single-precision by counting the numbers, 8 groups of 4 plus one to denote the sign. A floating point number means that it contains a '.' when expressed in decimal format.]\n",
    "\n",
    "- Find the smallest possible (non-zero) single-precision floating-point number (so using 32-bits to identify the number in binary code, like the two examples above.)\n"
   ]
  },
  {
   "cell_type": "code",
   "execution_count": 9,
   "id": "aeea33d8",
   "metadata": {
    "colab": {
     "base_uri": "https://localhost:8080/"
    },
    "id": "aeea33d8",
    "outputId": "20daf9b5-f8a1-4fe1-bc15-f41b01603828"
   },
   "outputs": [
    {
     "name": "stdout",
     "output_type": "stream",
     "text": [
      "6.59709246856619e-38\n",
      "-3.1529077659797623e-13\n",
      "5.877471754111438e-39\n"
     ]
    }
   ],
   "source": [
    "def bin_to_dec(bin: str):\n",
    "  bin = bin.replace(' ', '')\n",
    "\n",
    "  signBit = int(bin[0])\n",
    "\n",
    "  exponent = int(bin[1:9], 2)\n",
    "\n",
    "  fractionBits = int(bin[9:], 2)\n",
    "  fraction = float('1.' + str(fractionBits))\n",
    "\n",
    "  return (-1)**signBit * 2**(exponent-127) * fraction\n",
    "\n",
    "print(bin_to_dec('0 0000 0011 0111 1011 0000 0000 0000 000'))\n",
    "print(bin_to_dec('1 0101 0101 0111 0110 0000 0000 0001 011'))\n",
    "\n",
    "# Smallest number (all zeros, exponent and fraction as small as possible)\n",
    "print(bin_to_dec('0 0000 0000 0000 0000 0000 0000 0000 000'))\n"
   ]
  },
  {
   "cell_type": "code",
   "execution_count": null,
   "id": "hQZ7uzYOwpkm",
   "metadata": {
    "id": "hQZ7uzYOwpkm"
   },
   "outputs": [],
   "source": []
  }
 ],
 "metadata": {
  "colab": {
   "provenance": []
  },
  "kernelspec": {
   "display_name": "Python 3.10.9 64-bit (microsoft store)",
   "language": "python",
   "name": "python3"
  },
  "language_info": {
   "codemirror_mode": {
    "name": "ipython",
    "version": 3
   },
   "file_extension": ".py",
   "mimetype": "text/x-python",
   "name": "python",
   "nbconvert_exporter": "python",
   "pygments_lexer": "ipython3",
   "version": "3.10.9"
  },
  "vscode": {
   "interpreter": {
    "hash": "a5110993c4867c1899e3971592d5a146c375e2c5743efc9c0c280c7247e98a05"
   }
  }
 },
 "nbformat": 4,
 "nbformat_minor": 5
}
